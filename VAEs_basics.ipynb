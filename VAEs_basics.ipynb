{
  "nbformat": 4,
  "nbformat_minor": 0,
  "metadata": {
    "colab": {
      "provenance": [],
      "gpuType": "T4",
      "authorship_tag": "ABX9TyN1CmcW+h4GO6TXI64MhruY",
      "include_colab_link": true
    },
    "kernelspec": {
      "name": "python3",
      "display_name": "Python 3"
    },
    "language_info": {
      "name": "python"
    },
    "accelerator": "GPU"
  },
  "cells": [
    {
      "cell_type": "markdown",
      "metadata": {
        "id": "view-in-github",
        "colab_type": "text"
      },
      "source": [
        "<a href=\"https://colab.research.google.com/github/ali2066k/medical_imaging_tutorial/blob/main/VAEs_basics.ipynb\" target=\"_parent\"><img src=\"https://colab.research.google.com/assets/colab-badge.svg\" alt=\"Open In Colab\"/></a>"
      ]
    },
    {
      "cell_type": "markdown",
      "source": [
        "References:\n",
        "* Bishop, C. M., & Bishop, H. (2023). Deep learning. In Springer eBooks. https://doi.org/10.1007/978-3-031-45468-4\n",
        "* Kingma, D. P., & Welling, M. (2013, December 20). Auto-Encoding variational Bayes. arXiv.org. https://arxiv.org/abs/1312.6114\n",
        "# Variational Autoencoders (VAEs) - brief summary\n",
        "Variational Autoencoders (VAEs) are a type of generative model that learns to encode data into a probabilistic latent space and then generate new data by sampling from that space. They are based on Bayesian inference and use deep learning to approximate distributions.\n",
        "\n"
      ],
      "metadata": {
        "id": "gpH8-1TmvPxQ"
      }
    },
    {
      "cell_type": "markdown",
      "source": [
        "### 1. Standard Autoencoders vs. VAEs\n",
        "*   Standard Autoencoders: Compress input data into a low-dimensional latent space and then reconstruct it. They learn a fixed latent representation for each input.\n",
        "*   VAEs: Instead of mapping inputs to a single point in latent space, they learn a probabilistic distribution (a mean and variance) over the latent space. This ensures smoother sampling and better generalization."
      ],
      "metadata": {
        "id": "YzVOkBu1ZsDf"
      }
    },
    {
      "cell_type": "markdown",
      "source": [
        "### 2. How VAEs Work\n",
        "VAEs consist of:\n",
        "*   **Encoder**: Maps input data  $x$  to a latent distribution  $q(z|x)$  with parameters  $(\\mu, \\sigma)$ , where:\n",
        "\n",
        "  $z \\sim \\mathcal{N}(mu, \\sigma^2)$\n",
        "\n",
        "*   **Latent Space**: Instead of a deterministic latent vector, VAEs encode data into a distribution over latent variables  z .\n",
        "*   **Decoder**: Maps a sampled latent variable  z  back to the data space to reconstruct  $x{\\prime}$."
      ],
      "metadata": {
        "id": "QJtnpXOHwtjv"
      }
    },
    {
      "cell_type": "markdown",
      "source": [
        "### 3. Objective Function (ELBO)\n",
        "\n",
        "VAEs maximize the Evidence Lower Bound (ELBO), which consists of:\n",
        "\n",
        "$\\mathbb{E}{q(z|x)}[\\log p(x|z)] - D{KL}(q(z|x) || p(z))$\n",
        "\n",
        "where:\n",
        "* The first term is the reconstruction loss (how well the model reconstructs the input).\n",
        "* The second term is the Kullback-Leibler (KL) divergence, which ensures the learned latent space is close to a prior distribution (typically standard normal  $\\mathcal{N}(0,1)$ )."
      ],
      "metadata": {
        "id": "es0Ld-OFz3qu"
      }
    },
    {
      "cell_type": "markdown",
      "source": [
        "### 4. The Reparameterization Trick\n",
        "\n",
        "* Sampling directly from  $z \\sim \\mathcal{N}(\\mu, \\sigma^2)$  is non-differentiable.\n",
        "* Instead, we use:\n",
        "\n",
        "  $z = \\mu + \\sigma \\cdot \\epsilon, \\quad \\epsilon \\sim \\mathcal{N}(0,1)$\n",
        "\n",
        "  This allows gradients to flow through the network during backpropagation."
      ],
      "metadata": {
        "id": "cd2_GstA0JsX"
      }
    },
    {
      "cell_type": "markdown",
      "source": [
        "# VAE Detailed explanation"
      ],
      "metadata": {
        "id": "rt5yG4wZvZgt"
      }
    },
    {
      "cell_type": "markdown",
      "source": [
        "### Encoder-Decoder regime:\n",
        "An encoder-decoder architecture aims to learn a compressed representation of data and reconstruct it back. Formally, given an input $\\mathbf{x} \\in \\mathbb{R}^{d}$, the encoder maps it to a lower-dimensional latent representation $\\mathbf{z} \\in \\mathbb{R}^{k}$ (where $k < d$), and the decoder reconstructs $\\hat{\\mathbf{x}}$ from $\\mathbf{z}$:\n",
        "\\begin{equation}\n",
        "    \\mathbf{z} = f_\\text{enc}(\\mathbf{x}; \\theta_\\text{enc}), \\quad \\hat{\\mathbf{x}} = f_\\text{dec}(\\mathbf{z}; \\theta_\\text{dec})\n",
        "\\end{equation}\n",
        "where $\\theta_\\text{enc}$ and $\\theta_\\text{dec}$ are the encoder and decoder parameters, respectively."
      ],
      "metadata": {
        "id": "PdoIpjijuwXs"
      }
    },
    {
      "cell_type": "markdown",
      "source": [
        "### Principal Component Analysis (PCA) as an Encoder-Decoder Model\n",
        "\n",
        "PCA can be formulated as a linear encoder-decoder framework:\n",
        "- **Encoder (Projection):** Maps input $\\mathbf{x}$ onto a lower-dimensional subspace via a linear transformation:\n",
        "\\begin{equation}\n",
        "    \\mathbf{z} = \\mathbf{W}^T \\mathbf{x},\n",
        "\\end{equation}\n",
        "where $\\mathbf{W} \\in \\mathbb{R}^{d \\times k}$ consists of the top $k$ principal eigenvectors of the data covariance matrix.\n",
        "\n",
        "- **Decoder (Reconstruction):** Reconstructs $\\hat{\\mathbf{x}}$ using the same projection matrix:\n",
        "\\begin{equation}\n",
        "    \\hat{\\mathbf{x}} = \\mathbf{W} \\mathbf{z} = \\mathbf{W} \\mathbf{W}^T \\mathbf{x}.\n",
        "\\end{equation}\n",
        "\n",
        "Thus, PCA finds the optimal subspace such that the reconstruction error, measured as the squared Euclidean distance $\\| \\mathbf{x} - \\hat{\\mathbf{x}} \\|^2$, is minimized. Unlike deep encoders, PCA assumes linear mappings and does not learn nonlinear transformations."
      ],
      "metadata": {
        "id": "VcYURaFQv_KN"
      }
    },
    {
      "cell_type": "markdown",
      "source": [
        "<!-- ![Screenshot 2025-02-16 at 18.04.40.png](data:image/png;base64,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) -->"
      ],
      "metadata": {
        "id": "4NRUyUkFuE66"
      }
    },
    {
      "cell_type": "markdown",
      "source": [
        "Variational Autoencoders (VAEs) are based on latent variable models where observed data $\\mathbf{x}$ is assumed to be generated from a latent variable $\\mathbf{z}$. The goal is to approximate the intractable posterior $p(\\mathbf{z} | \\mathbf{x})$ using variational inference.\n",
        "\n",
        "### Latent Variable Model:\n",
        "\n",
        "We assume the generative process:\n",
        "\\begin{equation}\n",
        "    p(\\mathbf{z}) = \\mathcal{N}(0, \\mathbf{I})\n",
        "\\end{equation}\n",
        "\\begin{equation}\n",
        "    p_\\theta(\\mathbf{x} | \\mathbf{z})\n",
        "\\end{equation}\n",
        "where $\\theta$ are the parameters of the generative model (decoder). However, computing the exact posterior $p(\\mathbf{z} | \\mathbf{x})= \\frac{p(\\mathbf{x} | \\mathbf{z})p(\\mathbf{z})}{p(\\mathbf{x})}$ requires intractable integration:\n",
        "\\begin{equation}\n",
        "    p(\\mathbf{x}) = \\int p(\\mathbf{x} | \\mathbf{z}) p(\\mathbf{z}) d\\mathbf{z}.\n",
        "\\end{equation}\n",
        "\n",
        "### Variational Inference:\n",
        "\n",
        "Since $p(\\mathbf{z} | \\mathbf{x})$ is intractable, we approximate it with a variational distribution:\n",
        "\\begin{equation}\n",
        "    q_\\phi(\\mathbf{z} | \\mathbf{x}) \\approx p(\\mathbf{z} | \\mathbf{x})\n",
        "\\end{equation}\n",
        "where $q_\\phi(\\mathbf{z} | \\mathbf{x})$ is parameterized as a Gaussian (bell-behaved distrobution):\n",
        "\\begin{equation}\n",
        "    q_\\phi(\\mathbf{z} | \\mathbf{x}) = \\mathcal{N}(\\mathbf{z} | \\mu_\\phi(\\mathbf{x}), \\sigma_\\phi^2(\\mathbf{x})).\n",
        "\\end{equation}\n",
        "To enable backpropagation, we use the **reparameterization trick**:\n",
        "\\begin{equation}\n",
        "    \\mathbf{z} = \\mu_\\phi(\\mathbf{x}) + \\sigma_\\phi(\\mathbf{x}) \\cdot \\epsilon, \\quad \\epsilon \\sim \\mathcal{N}(0, I).\n",
        "\\end{equation}\n"
      ],
      "metadata": {
        "id": "VJj8O0jhxULS"
      }
    },
    {
      "cell_type": "markdown",
      "source": [
        "### Kullback-Leibler (KL) Divergence\n",
        "\n",
        "The Kullback-Leibler (KL) divergence is a fundamental concept in information theory that quantifies how one probability distribution differs from another.\n",
        "\n",
        "The information content (or self-information) of an event associated with a probability distribution $p(x)$ is given by:\n",
        "\\begin{equation}\n",
        "    I_p(x) = -\\log p(x).\n",
        "\\end{equation}\n",
        "\n",
        "The entropy of a distribution $p(x)$, which measures the expected amount of information required to describe a random variable, is defined as:\n",
        "\\begin{equation}\n",
        "    H(p) = -\\sum_x p(x) \\log p(x).\n",
        "\\end{equation}\n",
        "\n",
        "The **Kullback-Leibler (KL) divergence** measures the difference between two probability distributions and is given by:\n",
        "\\begin{equation}\n",
        "    D_{KL}(q \\| p) = H(p) - H(q) = -\\sum_x p(x) \\log p(x) + \\sum_x q(x) \\log q(x)\n",
        "\\end{equation}\n",
        "\n",
        "This is not entirely accurate because, in KL divergence, the expectation is always taken with respect to a single probability distribution. If both terms are expressed in terms of the same probability distribution, the KL divergence is given by:\n",
        "\\begin{equation}\n",
        "D_{KL}(q \\| p) = - \\sum_x q(x) \\log \\frac{p(x)}{q(x)}.\n",
        "\\end{equation}\n",
        "\n",
        "In the continuous case, the KL divergence is given by:\n",
        "\\begin{equation}\n",
        "    D_{KL}(q \\| p) = - \\int q(x) \\log \\frac{p(x)}{q(x)} dx.\n",
        "\\end{equation}\n",
        "\n",
        "\n",
        "### Information-Theoretic Interpretation\n",
        "KL divergence quantifies the information loss when approximating one distribution with another. It measures how much information is lost if we use the approximate distribution $q(z)$ instead of the true distribution $p(z)$. Lower KL divergence indicates that $q(z)$ closely resembles $p(z)$, while higher values signify greater deviation. In the context of VAEs, minimizing KL divergence ensures that the learned latent distribution remains close to the prior, facilitating meaningful sampling and regularization of the latent space.\n"
      ],
      "metadata": {
        "id": "wMjU7VQj0c5O"
      }
    },
    {
      "cell_type": "markdown",
      "source": [
        "Extracting the Evidence Lower Bound (ELBO)\n",
        "\n",
        "We start with the KL divergence between the approximate posterior $q_\\phi(z | x)$ and the true posterior $p_\\theta(z | x)$:\n",
        "\\begin{equation}\n",
        "    D_{KL}(q_\\phi(z | x) \\| p_\\theta(z | x)) = - \\int_q q_\\phi(z | x) \\log \\frac{p_\\theta(z | x)}{q_\\phi(z | x)} dz.\n",
        "\\end{equation}\n",
        "\n",
        "Using Bayes' theorem, we express $p_\\theta(z | x)$ as:\n",
        "\\begin{equation}\n",
        "    p_\\theta(z | x) = - \\frac{p_\\theta(z,x)}{p_\\theta(x)}.\n",
        "\\end{equation}\n",
        "\n",
        "Substituting this into the KL divergence expression:\n",
        "\\begin{equation}\n",
        "    D_{KL}(q_\\phi(z | x) \\| p_\\theta(z | x)) =  - \\int_q q_\\phi(z | x) \\log \\frac{p_\\theta(z,x)}{q_\\phi(z | x) p_\\theta(x)} dz.\n",
        "\\end{equation}\n",
        "\n",
        "Splitting the logarithm:\n",
        "\\begin{equation}\n",
        "    D_{KL}(q_\\phi(z | x) \\| p_\\theta(z | x)) = - \\int_q q_\\phi(z | x) \\left[ \\log \\frac{p_\\theta(z,x)}{q_\\phi(z)} - \\log p_\\theta(x) \\right] dz.\n",
        "\\end{equation}\n",
        "\n",
        "splitting the integral:\n",
        "\\begin{equation}\n",
        "    D_{KL}(q_\\phi(z | x) \\| p_\\theta(z | x)) = - \\int_q q_\\phi(z | x) \\log \\frac{p_\\theta(z,x)}{q_\\phi(z)} dz + \\int_q q_\\phi(z | x) \\log p_\\theta(x) dz.\n",
        "\\end{equation}\n",
        "\n",
        "Since $\\log p_\\theta(x)$ is a constant:\n",
        "\\begin{equation}\n",
        "    D_{KL}(q_\\phi(z | x) \\| p_\\theta(z | x)) = - \\int_q q_\\phi(z | x) \\log \\frac{p_\\theta(z,x)}{q_\\phi(z)} dz + \\left[\\log p_\\theta(x) \\int_q q_\\phi(z | x) dz \\right].\n",
        "\\end{equation}\n",
        "\n",
        "Since $q_\\phi(z | x)$ is a probability distribution, then $\\int_q q_\\phi(z | x)$ is 1. Therefore:\n",
        "\\begin{equation}\n",
        "    D_{KL}(q_\\phi(z | x) \\| p_\\theta(z | x)) = - \\int_q q_\\phi(z | x) \\log \\frac{p_\\theta(z,x)}{q_\\phi(z)} dz + \\log p_\\theta(x).\n",
        "\\end{equation}\n",
        "\n",
        "To minimize the KL divergence, we need to maximize the integral term a.k.a ELBO which is a **tractible** term. note: $\\log p_\\theta(x)$ is a constant.\n",
        "\n",
        "Rearranging terms:\n",
        "\\begin{equation}\n",
        "\\log p_\\theta(x) = D_{KL}(q_\\phi(z | x) \\| p_\\theta(z | x)) + \\int_q q_\\phi(z | x) \\log \\frac{p_\\theta(z,x)}{q_\\phi(z)} dz\n",
        "\\end{equation}\n",
        "\n",
        "**Evidence Lower Bound (ELBO)**:\n",
        "\\begin{equation}\n",
        "    \\mathcal{L}(\\theta, \\phi) = \\int_q q_\\phi(z | x) \\log \\frac{p_\\theta(x|z)p(z)}{q_\\phi(z)} dz\n",
        "\\end{equation}\n",
        "\n",
        "Splitting the integral:\n",
        "\\begin{equation}\n",
        "    \\mathcal{L}(\\theta, \\phi) = \\int_q q_\\phi(z | x) \\log p_\\theta(x|z) dz + \\int_q q_\\phi(z) \\log \\frac{p(z)}{q(z)}\n",
        "\\end{equation}\n",
        "\n",
        "The first integral term is: (a.k.a. log-likelihood; minimize the reconstruction error)\n",
        "\\begin{equation}\n",
        "    \\int_q q_\\phi(z | x) \\log p_\\theta(x|z) dz = \\mathbb{E}_{q_\\phi(z | x)} \\left[ \\log p_\\theta(x | z) \\right]\n",
        "\\end{equation}\n",
        "\n",
        "The second integral term is: (regularization; ensure that q is coming from a well-behaved distribution)\n",
        "\\begin{equation}\n",
        "    \\int_q q_\\phi(z) \\log \\frac{p(z)}{q(z)} = - D_{KL}(q_\\phi(z | x) \\| p_\\theta(z | x))\n",
        "\\end{equation}\n",
        "\n",
        "Maximizing the ELBO allows us to simultaneously improve the likelihood of data reconstruction and regularize the latent space by keeping $q_\\phi(z | x)$ close to the prior $p(z)$. This is the core optimization objective in Variational Autoencoders (VAEs)."
      ],
      "metadata": {
        "id": "l9HXtqbM2Xl6"
      }
    },
    {
      "cell_type": "markdown",
      "source": [
        "### The Reparameterization Trick\n",
        "\n",
        "The reparameterization trick is a crucial technique in Variational Autoencoders (VAEs) that enables efficient gradient-based optimization when sampling from a distribution.\n",
        "\n",
        "In VAEs, we approximate the posterior distribution $q_\\phi(z | x)$ using a parameterized distribution, typically a Gaussian:\n",
        "\\begin{equation}\n",
        "    q_\\phi(z | x) = \\mathcal{N}(z; \\mu_\\phi(x), \\sigma_\\phi^2(x)).\n",
        "\\end{equation}\n",
        "\n",
        "However, directly sampling $z$ from this distribution introduces a non-differentiable operation, preventing gradient-based learning via backpropagation.\n",
        "\n",
        "The reparameterization trick circumvents this issue by expressing the random variable $z$ in terms of a differentiable transformation of a noise variable $\\epsilon$, which follows a simple distribution (e.g., a standard normal distribution):\n",
        "\\begin{equation}\n",
        "    z = \\mu_\\phi(x) + \\sigma_\\phi(x) \\cdot \\epsilon, \\quad \\epsilon \\sim \\mathcal{N}(0, I).\n",
        "\\end{equation}\n",
        "Since $\\mu_\\phi(x)$ and $\\sigma_\\phi(x)$ are functions of $x$ and $\\phi$, gradients can now propagate through them, allowing for efficient optimization via stochastic gradient descent.\n",
        "\n",
        "### Formally:\n",
        "\n",
        "The expectation of the log-likelihood term in the ELBO involves an expectation over $q_\\phi(z | x)$:\n",
        "\\begin{equation}\n",
        "    \\mathbb{E}_{q_\\phi(z | x)} [\\log p_\\theta(x | z)].\n",
        "\\end{equation}\n",
        "However, direct differentiation w.r.t. $\\phi$ is intractable due to the stochastic sampling process. By reparameterizing $z$ as:\n",
        "\\begin{equation}\n",
        "    z = \\mu_\\phi(x) + \\sigma_\\phi(x) \\cdot \\epsilon, \\quad \\epsilon \\sim \\mathcal{N}(0, I),\n",
        "\\end{equation}\n",
        "we transform the expectation into:\n",
        "\\begin{equation}\n",
        "    \\mathbb{E}_{\\epsilon \\sim \\mathcal{N}(0, I)} [\\log p_\\theta(x | \\mu_\\phi(x) + \\sigma_\\phi(x) \\cdot \\epsilon)],\n",
        "\\end{equation}\n",
        "which is now differentiable with respect to $\\phi$.\n",
        "\n",
        "### Why It Works\n",
        "\n",
        "- The transformation ensures that $z$ retains the correct statistical properties.\n",
        "- Since $\\epsilon$ is independent of $\\phi$, gradients can propagate through $\\mu_\\phi(x)$ and $\\sigma_\\phi(x)$, enabling efficient learning.\n",
        "- This technique allows VAEs to be trained using backpropagation despite involving stochastic sampling.\n",
        "\n",
        "The reparameterization trick is a fundamental tool that enables VAEs to learn meaningful latent representations while preserving end-to-end differentiability."
      ],
      "metadata": {
        "id": "DgYbAf11J1tV"
      }
    },
    {
      "cell_type": "markdown",
      "source": [
        "# Coding a simple VAE"
      ],
      "metadata": {
        "id": "K3gweHoFK23n"
      }
    },
    {
      "cell_type": "code",
      "source": [
        "import torch\n",
        "import torch.nn as nn\n",
        "import torch.optim as optim\n",
        "import torch.nn.functional as F\n",
        "from torchvision import datasets, transforms\n",
        "import matplotlib.pyplot as plt\n",
        "import numpy as np\n",
        "\n",
        "# Load MNIST dataset\n",
        "transform = transforms.Compose([transforms.ToTensor()])\n",
        "train_dataset = datasets.MNIST(root='./data', train=True, transform=transform, download=True)\n",
        "test_dataset = datasets.MNIST(root='./data', train=False, transform=transform, download=True)\n",
        "\n",
        "train_loader = torch.utils.data.DataLoader(train_dataset, batch_size=128, shuffle=True)\n",
        "test_loader = torch.utils.data.DataLoader(test_dataset, batch_size=128, shuffle=False)\n",
        "\n",
        "# Visualizing random samples from dataset\n",
        "def visualize_samples(dataset, num_samples=6):\n",
        "    fig, axes = plt.subplots(1, num_samples, figsize=(12, 2))\n",
        "    indices = np.random.choice(len(dataset), num_samples, replace=False)\n",
        "    for i, idx in enumerate(indices):\n",
        "        image, _ = dataset[idx]\n",
        "        axes[i].imshow(image.squeeze(), cmap='gray')\n",
        "        axes[i].axis('off')\n",
        "    plt.show()\n",
        "\n",
        "visualize_samples(train_dataset)"
      ],
      "metadata": {
        "colab": {
          "base_uri": "https://localhost:8080/",
          "height": 781
        },
        "id": "DiNhyq7WxUm2",
        "outputId": "cc0e70fc-3d3a-4bf3-d627-005d3cfed2a5"
      },
      "execution_count": 1,
      "outputs": [
        {
          "output_type": "stream",
          "name": "stdout",
          "text": [
            "Downloading http://yann.lecun.com/exdb/mnist/train-images-idx3-ubyte.gz\n",
            "Failed to download (trying next):\n",
            "HTTP Error 404: Not Found\n",
            "\n",
            "Downloading https://ossci-datasets.s3.amazonaws.com/mnist/train-images-idx3-ubyte.gz\n",
            "Downloading https://ossci-datasets.s3.amazonaws.com/mnist/train-images-idx3-ubyte.gz to ./data/MNIST/raw/train-images-idx3-ubyte.gz\n"
          ]
        },
        {
          "output_type": "stream",
          "name": "stderr",
          "text": [
            "100%|██████████| 9.91M/9.91M [00:00<00:00, 16.5MB/s]\n"
          ]
        },
        {
          "output_type": "stream",
          "name": "stdout",
          "text": [
            "Extracting ./data/MNIST/raw/train-images-idx3-ubyte.gz to ./data/MNIST/raw\n",
            "\n",
            "Downloading http://yann.lecun.com/exdb/mnist/train-labels-idx1-ubyte.gz\n",
            "Failed to download (trying next):\n",
            "HTTP Error 404: Not Found\n",
            "\n",
            "Downloading https://ossci-datasets.s3.amazonaws.com/mnist/train-labels-idx1-ubyte.gz\n",
            "Downloading https://ossci-datasets.s3.amazonaws.com/mnist/train-labels-idx1-ubyte.gz to ./data/MNIST/raw/train-labels-idx1-ubyte.gz\n"
          ]
        },
        {
          "output_type": "stream",
          "name": "stderr",
          "text": [
            "100%|██████████| 28.9k/28.9k [00:00<00:00, 505kB/s]\n"
          ]
        },
        {
          "output_type": "stream",
          "name": "stdout",
          "text": [
            "Extracting ./data/MNIST/raw/train-labels-idx1-ubyte.gz to ./data/MNIST/raw\n",
            "\n",
            "Downloading http://yann.lecun.com/exdb/mnist/t10k-images-idx3-ubyte.gz\n",
            "Failed to download (trying next):\n",
            "HTTP Error 404: Not Found\n",
            "\n",
            "Downloading https://ossci-datasets.s3.amazonaws.com/mnist/t10k-images-idx3-ubyte.gz\n",
            "Downloading https://ossci-datasets.s3.amazonaws.com/mnist/t10k-images-idx3-ubyte.gz to ./data/MNIST/raw/t10k-images-idx3-ubyte.gz\n"
          ]
        },
        {
          "output_type": "stream",
          "name": "stderr",
          "text": [
            "100%|██████████| 1.65M/1.65M [00:00<00:00, 4.59MB/s]\n"
          ]
        },
        {
          "output_type": "stream",
          "name": "stdout",
          "text": [
            "Extracting ./data/MNIST/raw/t10k-images-idx3-ubyte.gz to ./data/MNIST/raw\n",
            "\n",
            "Downloading http://yann.lecun.com/exdb/mnist/t10k-labels-idx1-ubyte.gz\n",
            "Failed to download (trying next):\n",
            "HTTP Error 404: Not Found\n",
            "\n",
            "Downloading https://ossci-datasets.s3.amazonaws.com/mnist/t10k-labels-idx1-ubyte.gz\n",
            "Downloading https://ossci-datasets.s3.amazonaws.com/mnist/t10k-labels-idx1-ubyte.gz to ./data/MNIST/raw/t10k-labels-idx1-ubyte.gz\n"
          ]
        },
        {
          "output_type": "stream",
          "name": "stderr",
          "text": [
            "100%|██████████| 4.54k/4.54k [00:00<00:00, 5.24MB/s]\n"
          ]
        },
        {
          "output_type": "stream",
          "name": "stdout",
          "text": [
            "Extracting ./data/MNIST/raw/t10k-labels-idx1-ubyte.gz to ./data/MNIST/raw\n",
            "\n"
          ]
        },
        {
          "output_type": "display_data",
          "data": {
            "text/plain": [
              "<Figure size 1200x200 with 6 Axes>"
            ],
            "image/png": "[encoded data removed]"
          },
          "metadata": {}
        }
      ]
    },
    {
      "cell_type": "code",
      "source": [
        "def vae_loss(recon_x, x, mu, log_var):\n",
        "    # Reconstruction loss (Binary Cross Entropy)\n",
        "    recon_loss = F.binary_cross_entropy(recon_x, x.view(-1, 28 * 28), reduction='sum')\n",
        "\n",
        "    # KL Divergence loss\n",
        "    kl_loss = -0.5 * torch.sum(1 + log_var - mu.pow(2) - log_var.exp())\n",
        "\n",
        "    return recon_loss + kl_loss"
      ],
      "metadata": {
        "id": "f6YnmyIWRJh-"
      },
      "execution_count": 2,
      "outputs": []
    },
    {
      "cell_type": "code",
      "source": [
        "import torch\n",
        "import torch.nn as nn\n",
        "import torch.nn.functional as F\n",
        "\n",
        "class VAE(nn.Module):\n",
        "    def __init__(self, input_dim=784, latent_dim=20, hidden_dim=512):\n",
        "        super(VAE, self).__init__()\n",
        "\n",
        "        # Encoder (Deeper with additional layers)\n",
        "        self.fc1 = nn.Linear(input_dim, hidden_dim)\n",
        "        self.fc2 = nn.Linear(hidden_dim, hidden_dim // 2)\n",
        "        self.fc_mu = nn.Linear(hidden_dim // 2, latent_dim)\n",
        "        self.fc_logvar = nn.Linear(hidden_dim // 2, latent_dim)\n",
        "\n",
        "        # Decoder (Deeper with additional layers)\n",
        "        self.fc3 = nn.Linear(latent_dim, hidden_dim // 2)\n",
        "        self.fc4 = nn.Linear(hidden_dim // 2, hidden_dim)\n",
        "        self.fc5 = nn.Linear(hidden_dim, input_dim)\n",
        "\n",
        "    def encode(self, x):\n",
        "        h = F.relu(self.fc1(x))\n",
        "        h = F.relu(self.fc2(h))\n",
        "        mu = self.fc_mu(h)\n",
        "        log_var = self.fc_logvar(h)\n",
        "        return mu, log_var\n",
        "\n",
        "    def reparameterize(self, mu, log_var):\n",
        "        std = torch.exp(0.5 * log_var)\n",
        "        eps = torch.randn_like(std)\n",
        "        return mu + eps * std\n",
        "\n",
        "    def decode(self, z):\n",
        "        h = F.relu(self.fc3(z))\n",
        "        h = F.relu(self.fc4(h))\n",
        "        return torch.sigmoid(self.fc5(h))\n",
        "\n",
        "    def forward(self, x):\n",
        "        mu, log_var = self.encode(x)\n",
        "        z = self.reparameterize(mu, log_var)\n",
        "        recon_x = self.decode(z)\n",
        "        return recon_x, mu, log_var"
      ],
      "metadata": {
        "id": "GfrB74uzRTqJ"
      },
      "execution_count": 10,
      "outputs": []
    },
    {
      "cell_type": "code",
      "source": [
        "# Training function\n",
        "device = torch.device(\"cuda\" if torch.cuda.is_available() else \"cpu\")\n",
        "vae = VAE().to(device)\n",
        "optimizer = optim.Adam(vae.parameters(), lr=1e-3)\n",
        "\n",
        "num_epochs = 50\n",
        "vae.train()\n",
        "for epoch in range(num_epochs):\n",
        "    train_loss = 0\n",
        "    for batch_idx, (data, _) in enumerate(train_loader):\n",
        "        data = data.to(device).view(-1, 28 * 28)  # Flatten input images\n",
        "\n",
        "        optimizer.zero_grad()\n",
        "        recon_batch, mu, log_var = vae(data)\n",
        "        loss = vae_loss(recon_batch, data, mu, log_var)\n",
        "        loss.backward()\n",
        "        train_loss += loss.item()\n",
        "        optimizer.step()\n",
        "\n",
        "    print(f\"Epoch {epoch+1}, Loss: {train_loss / len(train_loader.dataset):.4f}\")"
      ],
      "metadata": {
        "colab": {
          "base_uri": "https://localhost:8080/"
        },
        "id": "xcJw1vb8RVvv",
        "outputId": "5329ed19-7a04-4dbc-99de-c0f63f17620e"
      },
      "execution_count": 11,
      "outputs": [
        {
          "output_type": "stream",
          "name": "stdout",
          "text": [
            "Epoch 1, Loss: 174.5980\n",
            "Epoch 2, Loss: 127.3232\n",
            "Epoch 3, Loss: 116.8379\n",
            "Epoch 4, Loss: 112.3862\n",
            "Epoch 5, Loss: 109.5669\n",
            "Epoch 6, Loss: 107.6048\n",
            "Epoch 7, Loss: 106.2726\n",
            "Epoch 8, Loss: 105.2676\n",
            "Epoch 9, Loss: 104.3408\n",
            "Epoch 10, Loss: 103.6562\n",
            "Epoch 11, Loss: 103.0346\n",
            "Epoch 12, Loss: 102.5508\n",
            "Epoch 13, Loss: 102.0760\n",
            "Epoch 14, Loss: 101.6599\n",
            "Epoch 15, Loss: 101.2476\n",
            "Epoch 16, Loss: 101.0208\n",
            "Epoch 17, Loss: 100.6562\n",
            "Epoch 18, Loss: 100.4525\n",
            "Epoch 19, Loss: 100.1380\n",
            "Epoch 20, Loss: 99.9606\n",
            "Epoch 21, Loss: 99.7570\n",
            "Epoch 22, Loss: 99.5404\n",
            "Epoch 23, Loss: 99.3656\n",
            "Epoch 24, Loss: 99.2232\n",
            "Epoch 25, Loss: 99.0188\n",
            "Epoch 26, Loss: 98.8751\n",
            "Epoch 27, Loss: 98.7806\n",
            "Epoch 28, Loss: 98.6204\n",
            "Epoch 29, Loss: 98.4241\n",
            "Epoch 30, Loss: 98.3473\n",
            "Epoch 31, Loss: 98.2254\n",
            "Epoch 32, Loss: 98.1664\n",
            "Epoch 33, Loss: 98.0270\n",
            "Epoch 34, Loss: 97.9547\n",
            "Epoch 35, Loss: 97.8476\n",
            "Epoch 36, Loss: 97.7960\n",
            "Epoch 37, Loss: 97.6674\n",
            "Epoch 38, Loss: 97.5818\n",
            "Epoch 39, Loss: 97.5026\n",
            "Epoch 40, Loss: 97.4579\n",
            "Epoch 41, Loss: 97.3333\n",
            "Epoch 42, Loss: 97.3081\n",
            "Epoch 43, Loss: 97.1909\n",
            "Epoch 44, Loss: 97.1328\n",
            "Epoch 45, Loss: 97.0753\n",
            "Epoch 46, Loss: 97.0110\n",
            "Epoch 47, Loss: 96.9824\n",
            "Epoch 48, Loss: 96.8205\n",
            "Epoch 49, Loss: 96.8696\n",
            "Epoch 50, Loss: 96.7794\n"
          ]
        }
      ]
    },
    {
      "cell_type": "code",
      "source": [
        "# Generate new samples by sampling from the prior distribution\n",
        "vae.eval()\n",
        "with torch.no_grad():\n",
        "    z = torch.randn(16, 20).to(device)  # Sample from standard normal\n",
        "    print(z.shape)\n",
        "    samples = vae.decode(z).cpu().view(-1, 28, 28)\n",
        "\n",
        "# Display generated samples\n",
        "fig, axes = plt.subplots(2, 8, figsize=(12, 3))\n",
        "for i, ax in enumerate(axes.flatten()):\n",
        "    ax.imshow(samples[i], cmap='gray')\n",
        "    ax.axis('off')\n",
        "plt.show()"
      ],
      "metadata": {
        "colab": {
          "base_uri": "https://localhost:8080/",
          "height": 278
        },
        "id": "uuSARiN3RXMF",
        "outputId": "67790ecb-a817-425c-f793-843b394793fc"
      },
      "execution_count": 12,
      "outputs": [
        {
          "output_type": "stream",
          "name": "stdout",
          "text": [
            "torch.Size([16, 20])\n"
          ]
        },
        {
          "output_type": "display_data",
          "data": {
            "text/plain": [
              "<Figure size 1200x300 with 16 Axes>"
            ],
            "image/png": "[encoded data removed]"
          },
          "metadata": {}
        }
      ]
    }
  ]
}